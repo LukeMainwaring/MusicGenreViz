{
 "cells": [
  {
   "cell_type": "markdown",
   "metadata": {},
   "source": [
    "Python Imports"
   ]
  },
  {
   "cell_type": "code",
   "execution_count": 1,
   "metadata": {},
   "outputs": [],
   "source": [
    "import os\n",
    "\n",
    "import pandas as pd\n",
    "import numpy as np"
   ]
  },
  {
   "cell_type": "code",
   "execution_count": 3,
   "metadata": {},
   "outputs": [],
   "source": [
    "import pymysql\n",
    "import pymysql.cursors"
   ]
  },
  {
   "cell_type": "markdown",
   "metadata": {},
   "source": [
    "Establish database connection"
   ]
  },
  {
   "cell_type": "code",
   "execution_count": 10,
   "metadata": {},
   "outputs": [],
   "source": [
    "# Connect to the database\n",
    "connection = pymysql.connect(host='cis550-2.cmxt8otwhjqc.us-east-2.rds.amazonaws.com',\n",
    "                             db='cis550',\n",
    "                             user='cis550',\n",
    "                             password='cis550eklh',\n",
    "#                              charset='utf8mb4',\n",
    "                             cursorclass=pymysql.cursors.DictCursor)"
   ]
  },
  {
   "cell_type": "code",
   "execution_count": null,
   "metadata": {},
   "outputs": [],
   "source": [
    "# run this box after you are done with the operations\n",
    "connection.close()"
   ]
  },
  {
   "cell_type": "code",
   "execution_count": 52,
   "metadata": {},
   "outputs": [
    {
     "name": "stdout",
     "output_type": "stream",
     "text": [
      "()\n"
     ]
    }
   ],
   "source": [
    "# test query\n",
    "with connection.cursor() as cursor:\n",
    "    # Read a single record\n",
    "    sql = '''\n",
    "    show tables\n",
    "    ;\n",
    "    '''\n",
    "    cursor.execute(sql)\n",
    "    result = cursor.fetchall()\n",
    "    print(result)"
   ]
  },
  {
   "cell_type": "markdown",
   "metadata": {},
   "source": [
    "<hr>"
   ]
  },
  {
   "cell_type": "markdown",
   "metadata": {},
   "source": [
    "Create tables in database"
   ]
  },
  {
   "cell_type": "code",
   "execution_count": 54,
   "metadata": {},
   "outputs": [
    {
     "name": "stdout",
     "output_type": "stream",
     "text": [
      "()\n",
      "()\n",
      "()\n",
      "()\n",
      "()\n"
     ]
    },
    {
     "name": "stderr",
     "output_type": "stream",
     "text": [
      "/Users/ejonokuchi/.virtualenvs/ds/lib/python3.6/site-packages/pymysql/cursors.py:322: Warning: (1050, \"Table 'artist' already exists\")\n",
      "  self._do_get_result()\n",
      "/Users/ejonokuchi/.virtualenvs/ds/lib/python3.6/site-packages/pymysql/cursors.py:322: Warning: (1050, \"Table 'artist_genre' already exists\")\n",
      "  self._do_get_result()\n",
      "/Users/ejonokuchi/.virtualenvs/ds/lib/python3.6/site-packages/pymysql/cursors.py:322: Warning: (1050, \"Table 'city' already exists\")\n",
      "  self._do_get_result()\n"
     ]
    }
   ],
   "source": [
    "table_creation_queries = [\n",
    "    '''CREATE TABLE IF NOT EXISTS artist (\n",
    "        artist_id         VARCHAR(25) NOT NULL,\n",
    "        artist_name       VARCHAR(50) NOT NULL,\n",
    "        artist_sp_name    VARCHAR(50) NOT NULL,\n",
    "        PRIMARY KEY (artist_id)\n",
    "    );''',\n",
    "    '''CREATE TABLE IF NOT EXISTS artist_genre (\n",
    "        artist_id         VARCHAR(25) NOT NULL,\n",
    "        genre             VARCHAR(50) NOT NULL,\n",
    "        PRIMARY KEY(artist_id, genre),\n",
    "        FOREIGN KEY(artist_id) references artist(artist_id)\n",
    "    );''',\n",
    "    '''CREATE TABLE IF NOT EXISTS city (\n",
    "        city_id           INT         NOT NULL AUTO_INCREMENT,\n",
    "        city_name         VARCHAR(50) NOT NULL,\n",
    "        city_state        VARCHAR(50) NOT NULL,\n",
    "        city_lat          FLOAT       NOT NULL,\n",
    "        city_lon          FLOAT       NOT NULL,\n",
    "        PRIMARY KEY (city_id)\n",
    "    );''',\n",
    "    '''CREATE TABLE IF NOT EXISTS artist_city (\n",
    "        artist_id         VARCHAR(25) NOT NULL,\n",
    "        city_id           INT         NOT NULL,\n",
    "        arr_index         INT         NOT NULL,\n",
    "        PRIMARY KEY(artist_id, city_id, arr_index),\n",
    "        FOREIGN KEY(artist_id) references artist(artist_id),\n",
    "        FOREIGN KEY(city_id) references city(city_id)\n",
    "    );''',\n",
    "    '''CREATE TABLE IF NOT EXISTS artist_rank (\n",
    "        artist_id         VARCHAR(25) NOT NULL,\n",
    "        year              INT         NOT NULL,\n",
    "        a_rank            INT         NOT NULL,\n",
    "        PRIMARY KEY (artist_id, year, a_rank),\n",
    "        FOREIGN KEY(artist_id) references artist(artist_id)\n",
    "    );''',\n",
    "]\n",
    "\n",
    "\n",
    "with connection.cursor() as cursor:\n",
    "    for query in table_creation_queries:\n",
    "        cursor.execute(query)\n",
    "        result = cursor.fetchall()\n",
    "        print(result)\n",
    "\n",
    "connection.commit()"
   ]
  },
  {
   "cell_type": "code",
   "execution_count": 56,
   "metadata": {},
   "outputs": [
    {
     "name": "stdout",
     "output_type": "stream",
     "text": [
      "Field\t\tType\t\tNull?\t\tKey\t\tDefault\t\tExtras\n",
      "=====\t\t====\t\t=====\t\t===\t\t=======\t\t======\n",
      "\n",
      "artist\n",
      "------\n",
      "artist_id       varchar(25)     NO              PRI             None                           \n",
      "artist_name     varchar(50)     NO                              None                           \n",
      "artist_sp_name  varchar(50)     NO                              None                           \n",
      "\n",
      "artist_genre\n",
      "------------\n",
      "artist_id       varchar(25)     NO              PRI             None                           \n",
      "genre           varchar(50)     NO              PRI             None                           \n",
      "\n",
      "city\n",
      "----\n",
      "city_id         int(11)         NO              PRI             None            auto_increment \n",
      "city_name       varchar(50)     NO                              None                           \n",
      "city_state      varchar(50)     NO                              None                           \n",
      "city_lat        float           NO                              None                           \n",
      "city_lon        float           NO                              None                           \n",
      "\n",
      "artist_city\n",
      "-----------\n",
      "artist_id       varchar(25)     NO              PRI             None                           \n",
      "city_id         int(11)         NO              PRI             None                           \n",
      "arr_index       int(11)         NO              PRI             None                           \n",
      "\n",
      "artist_rank\n",
      "-----------\n",
      "artist_id       varchar(25)     NO              PRI             None                           \n",
      "year            int(11)         NO              PRI             None                           \n",
      "a_rank          int(11)         NO              PRI             None                           \n",
      "\n"
     ]
    }
   ],
   "source": [
    "table_verification_queries = table_creation_queries = [\n",
    "    '''DESC artist;''',\n",
    "    '''DESC artist_genre;''',\n",
    "    '''DESC city;''',\n",
    "    '''DESC artist_city;''',\n",
    "    '''DESC artist_rank;'''\n",
    "]\n",
    "\n",
    "test = None\n",
    "with connection.cursor() as cursor:\n",
    "    \n",
    "    fields = ['Field', 'Type', 'Null?', 'Key', 'Default', 'Extras']\n",
    "    print('\\t\\t'.join(fields))\n",
    "    print('\\t\\t'.join(['=' * len(field) for field in fields]))\n",
    "    print()\n",
    "    \n",
    "    tables = ['artist', 'artist_genre', 'city', 'artist_city', 'artist_rank']\n",
    "    \n",
    "    for i in range(0, len(table_creation_queries)):\n",
    "        cursor.execute(table_creation_queries[i])\n",
    "        result = cursor.fetchall()\n",
    "        \n",
    "        print(tables[i] + '\\n' + '-' * len(tables[i]))\n",
    "        for r in result:\n",
    "            print(*['{:15}'.format(str(x)) for x in r.values()])\n",
    "        print()"
   ]
  },
  {
   "cell_type": "code",
   "execution_count": null,
   "metadata": {},
   "outputs": [],
   "source": []
  },
  {
   "cell_type": "code",
   "execution_count": 51,
   "metadata": {},
   "outputs": [
    {
     "name": "stdout",
     "output_type": "stream",
     "text": [
      "()\n"
     ]
    }
   ],
   "source": [
    "query = ''''''\n",
    "\n",
    "with connection.cursor() as cursor:\n",
    "    cursor.execute(query)\n",
    "    result = cursor.fetchall()\n",
    "    print(result)"
   ]
  },
  {
   "cell_type": "code",
   "execution_count": null,
   "metadata": {},
   "outputs": [],
   "source": [
    "'INSERT INTO {table} ({fields}) VALUES'\n",
    "    {values},\n",
    "    {values},\n",
    "    {values},\n",
    "    {values},\n",
    "    ...\n"
   ]
  },
  {
   "cell_type": "markdown",
   "metadata": {},
   "source": [
    "<hr>"
   ]
  },
  {
   "cell_type": "markdown",
   "metadata": {},
   "source": [
    "Load data"
   ]
  },
  {
   "cell_type": "code",
   "execution_count": null,
   "metadata": {},
   "outputs": [],
   "source": []
  },
  {
   "cell_type": "code",
   "execution_count": null,
   "metadata": {},
   "outputs": [],
   "source": []
  },
  {
   "cell_type": "markdown",
   "metadata": {},
   "source": [
    "<hr>"
   ]
  },
  {
   "cell_type": "markdown",
   "metadata": {},
   "source": [
    "Upload to Amazon RDS database"
   ]
  },
  {
   "cell_type": "code",
   "execution_count": null,
   "metadata": {},
   "outputs": [],
   "source": []
  },
  {
   "cell_type": "code",
   "execution_count": null,
   "metadata": {},
   "outputs": [],
   "source": []
  },
  {
   "cell_type": "code",
   "execution_count": null,
   "metadata": {},
   "outputs": [],
   "source": []
  }
 ],
 "metadata": {
  "kernelspec": {
   "display_name": "Python 3",
   "language": "python",
   "name": "python3"
  },
  "language_info": {
   "codemirror_mode": {
    "name": "ipython",
    "version": 3
   },
   "file_extension": ".py",
   "mimetype": "text/x-python",
   "name": "python",
   "nbconvert_exporter": "python",
   "pygments_lexer": "ipython3",
   "version": "3.6.4"
  }
 },
 "nbformat": 4,
 "nbformat_minor": 2
}
