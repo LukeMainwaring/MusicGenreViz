{
 "cells": [
  {
   "cell_type": "markdown",
   "metadata": {},
   "source": [
    "# Spotify scraping notebook"
   ]
  },
  {
   "cell_type": "markdown",
   "metadata": {},
   "source": [
    "### Imports\n",
    "\n",
    "Install with: \n",
    "```pip install [package1] [package2] ...```"
   ]
  },
  {
   "cell_type": "code",
   "execution_count": 1,
   "metadata": {},
   "outputs": [],
   "source": [
    "import sys\n",
    "import spotipy\n",
    "import spotipy.util as util\n",
    "\n",
    "import json\n",
    "import pandas as pd\n",
    "import numpy as np"
   ]
  },
  {
   "cell_type": "code",
   "execution_count": 6,
   "metadata": {},
   "outputs": [],
   "source": [
    "# to use with your account, fill in with your username and request own token\n",
    "username = 'ejonokuchi'\n",
    "token = ''"
   ]
  },
  {
   "cell_type": "code",
   "execution_count": 3,
   "metadata": {},
   "outputs": [],
   "source": [
    "# Initialize spotipy client\n",
    "sp = spotipy.Spotify(auth=token)"
   ]
  },
  {
   "cell_type": "markdown",
   "metadata": {},
   "source": [
    "For reference, see the [spotipy docs](http://spotipy.readthedocs.io/en/latest/)"
   ]
  },
  {
   "cell_type": "code",
   "execution_count": 4,
   "metadata": {},
   "outputs": [],
   "source": [
    "def get_spotify_artist_obj(name):\n",
    "    '''\n",
    "    Get the artist ID for a spotify artist. Returns the first match.\n",
    "    '''\n",
    "    results = sp.search(q='artist:' + name, type='artist')\n",
    "    first_match = results['artists']['items'][0]\n",
    "    print('Found artist with name \\'{}\\''.format(first_match['name']))\n",
    "    return first_match"
   ]
  },
  {
   "cell_type": "code",
   "execution_count": 5,
   "metadata": {},
   "outputs": [
    {
     "name": "stdout",
     "output_type": "stream",
     "text": [
      "Found artist with name 'Michael Jackson'\n"
     ]
    },
    {
     "data": {
      "text/plain": [
       "{'external_urls': {'spotify': 'https://open.spotify.com/artist/3fMbdgg4jU18AjLCKBhRSm'},\n",
       " 'followers': {'href': None, 'total': 4704170},\n",
       " 'genres': ['dance pop', 'pop', 'pop christmas'],\n",
       " 'href': 'https://api.spotify.com/v1/artists/3fMbdgg4jU18AjLCKBhRSm',\n",
       " 'id': '3fMbdgg4jU18AjLCKBhRSm',\n",
       " 'images': [{'height': 640,\n",
       "   'url': 'https://i.scdn.co/image/51dad9aaabe5643818840207a9a8957c2ad91bf2',\n",
       "   'width': 640},\n",
       "  {'height': 320,\n",
       "   'url': 'https://i.scdn.co/image/2e6f35b90c131c137669d06e3c36b1a5d3172864',\n",
       "   'width': 320},\n",
       "  {'height': 160,\n",
       "   'url': 'https://i.scdn.co/image/4ba613bd55b4954a027377b70b8c6d48639fd70b',\n",
       "   'width': 160}],\n",
       " 'name': 'Michael Jackson',\n",
       " 'popularity': 84,\n",
       " 'type': 'artist',\n",
       " 'uri': 'spotify:artist:3fMbdgg4jU18AjLCKBhRSm'}"
      ]
     },
     "execution_count": 5,
     "metadata": {},
     "output_type": "execute_result"
    }
   ],
   "source": [
    "# Example artist: Michael Jackson\n",
    "query = 'Michael Jackson'\n",
    "get_spotify_artist_obj(query)"
   ]
  },
  {
   "cell_type": "code",
   "execution_count": null,
   "metadata": {},
   "outputs": [],
   "source": []
  },
  {
   "cell_type": "code",
   "execution_count": null,
   "metadata": {},
   "outputs": [],
   "source": []
  },
  {
   "cell_type": "code",
   "execution_count": null,
   "metadata": {},
   "outputs": [],
   "source": []
  },
  {
   "cell_type": "code",
   "execution_count": null,
   "metadata": {},
   "outputs": [],
   "source": []
  }
 ],
 "metadata": {
  "kernelspec": {
   "display_name": "Python 3",
   "language": "python",
   "name": "python3"
  },
  "language_info": {
   "codemirror_mode": {
    "name": "ipython",
    "version": 3
   },
   "file_extension": ".py",
   "mimetype": "text/x-python",
   "name": "python",
   "nbconvert_exporter": "python",
   "pygments_lexer": "ipython3",
   "version": "3.6.4"
  }
 },
 "nbformat": 4,
 "nbformat_minor": 2
}
